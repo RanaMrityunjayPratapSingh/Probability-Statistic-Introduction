{
 "cells": [
  {
   "cell_type": "code",
   "execution_count": null,
   "metadata": {},
   "outputs": [],
   "source": [
    "import numpy as np\n",
    "import random\n",
    "l = list(range(100))\n",
    "random.shuffle(l)\n",
    "l"
   ]
  },
  {
   "cell_type": "code",
   "execution_count": 3,
   "metadata": {},
   "outputs": [
    {
     "name": "stdout",
     "output_type": "stream",
     "text": [
      "Not Found\n",
      "Not Found\n",
      "Not Found\n",
      "Not Found\n",
      "Not Found\n",
      "Not Found\n",
      "Not Found\n",
      "Found\n"
     ]
    }
   ],
   "source": [
    "q = 31\n",
    "isFound = False\n",
    "for ele in l:\n",
    "    if ele == 31:\n",
    "        print('Found')\n",
    "        isFound = True\n",
    "        break;\n",
    "    if isFound == False:\n",
    "        print(\"Not Found\")\n",
    "            "
   ]
  },
  {
   "cell_type": "markdown",
   "metadata": {},
   "source": [
    "# Binary Search"
   ]
  },
  {
   "cell_type": "code",
   "execution_count": 5,
   "metadata": {},
   "outputs": [
    {
     "name": "stdout",
     "output_type": "stream",
     "text": [
      "Element is present at index 3\n"
     ]
    }
   ],
   "source": [
    "# Returns index of x in arr if present, else -1\n",
    "def binary_search(arr, low, high, x):\n",
    " \n",
    "    # Check base case\n",
    "    if high >= low:\n",
    " \n",
    "        mid = (high + low) // 2\n",
    " \n",
    "        # If element is present at the middle itself\n",
    "        if arr[mid] == x:\n",
    "            return mid\n",
    " \n",
    "        # If element is smaller than mid, then it can only\n",
    "        # be present in left subarray\n",
    "        elif arr[mid] > x:\n",
    "            return binary_search(arr, low, mid - 1, x)\n",
    " \n",
    "        # Else the element can only be present in right subarray\n",
    "        else:\n",
    "            return binary_search(arr, mid + 1, high, x)\n",
    "    else:\n",
    "        # Element is not present in the array\n",
    "        return -1\n",
    " \n",
    " # Test array\n",
    "arr = [ 2, 3, 4, 10, 40 ]\n",
    "x = 10\n",
    " \n",
    "# Function call\n",
    "result = binary_search(arr, 0, len(arr)-1, x)\n",
    " \n",
    "if result != -1:\n",
    "    print(\"Element is present at index\", str(result))\n",
    "else:\n",
    "    print(\"Element is not present in array\")"
   ]
  },
  {
   "cell_type": "code",
   "execution_count": 8,
   "metadata": {},
   "outputs": [
    {
     "name": "stdout",
     "output_type": "stream",
     "text": [
      "32\n",
      "25\n",
      "42\n",
      "39\n",
      "16\n",
      "10\n",
      "37\n",
      "1\n",
      "17\n",
      "8\n",
      "33\n",
      "48\n",
      "45\n",
      "21\n",
      "31\n",
      "11\n",
      "38\n",
      "12\n",
      "9\n",
      "34\n",
      "0\n",
      "26\n",
      "23\n",
      "22\n",
      "43\n",
      "15\n",
      "30\n",
      "29\n",
      "6\n",
      "46\n",
      "47\n",
      "3\n",
      "2\n",
      "44\n",
      "18\n",
      "20\n",
      "7\n",
      "41\n",
      "40\n",
      "28\n",
      "5\n",
      "13\n",
      "19\n",
      "36\n",
      "27\n",
      "14\n",
      "35\n",
      "4\n",
      "49\n",
      "24\n",
      "Number of common elements :  50\n"
     ]
    }
   ],
   "source": [
    "#Find comman element in two lists\n",
    "L1 = list(range(100))\n",
    "random.shuffle(L1)\n",
    "\n",
    "L2 = list(range(50))\n",
    "random.shuffle(L2)\n",
    "\n",
    "#Find common elements : o(n*m)\n",
    "cnt = 0;\n",
    "for i in L1:\n",
    "    for j in L2:\n",
    "        if i==j:\n",
    "            print(i)\n",
    "            cnt += 1;\n",
    "print(\"Number of common elements : \", cnt)"
   ]
  },
  {
   "cell_type": "code",
   "execution_count": 11,
   "metadata": {},
   "outputs": [
    {
     "name": "stdout",
     "output_type": "stream",
     "text": [
      "2\n",
      "21\n",
      "34\n",
      "4\n",
      "33\n",
      "46\n",
      "43\n",
      "24\n",
      "9\n",
      "7\n",
      "11\n",
      "38\n",
      "40\n",
      "16\n",
      "28\n",
      "18\n",
      "36\n",
      "3\n",
      "42\n",
      "30\n",
      "22\n",
      "8\n",
      "26\n",
      "25\n",
      "49\n",
      "0\n",
      "29\n",
      "20\n",
      "19\n",
      "44\n",
      "37\n",
      "23\n",
      "6\n",
      "10\n",
      "41\n",
      "14\n",
      "27\n",
      "13\n",
      "39\n",
      "17\n",
      "47\n",
      "1\n",
      "5\n",
      "45\n",
      "35\n",
      "32\n",
      "48\n",
      "15\n",
      "31\n",
      "12\n",
      "Number of comman elements :  50\n"
     ]
    }
   ],
   "source": [
    "# Find elements common in two lists using a HashtableDict\n",
    "L1 = list(range(100))\n",
    "random.shuffle(L1)\n",
    "\n",
    "L2 = list(range(50))\n",
    "random.shuffle(L2)\n",
    "\n",
    "smallList = {}\n",
    "for ele in L2:\n",
    "    smallList[ele] = 1;\n",
    "    \n",
    "cnt = 0;\n",
    "for i in L1:\n",
    "    if smallList.get(i) != None:\n",
    "        print(i);\n",
    "        cnt += 1;\n",
    "        \n",
    "print('Number of comman elements : ', cnt)\n"
   ]
  },
  {
   "cell_type": "markdown",
   "metadata": {},
   "source": [
    "# Q-Q Plot"
   ]
  },
  {
   "cell_type": "code",
   "execution_count": 1,
   "metadata": {},
   "outputs": [
    {
     "name": "stdout",
     "output_type": "stream",
     "text": [
      "0 -3.3941880125074357\n",
      "1 -2.3903295344369617\n",
      "2 -2.149287389468155\n",
      "3 -1.9897378981962852\n",
      "4 -1.867530964108731\n",
      "5 -1.7722542381409765\n",
      "6 -1.6696635905739958\n",
      "7 -1.5144934317909382\n",
      "8 -1.4374368329318825\n",
      "9 -1.3807642404824298\n",
      "10 -1.3398954387216198\n",
      "11 -1.2819285547568666\n",
      "12 -1.2504393840236163\n",
      "13 -1.2010314734200547\n",
      "14 -1.1425747292598736\n",
      "15 -1.0924887403196475\n",
      "16 -1.0567335888293954\n",
      "17 -1.0000354373215259\n",
      "18 -0.9482952464814675\n",
      "19 -0.9096993308855448\n",
      "20 -0.8940600518023578\n",
      "21 -0.8632245356876602\n",
      "22 -0.835821907463173\n",
      "23 -0.7965208324466595\n",
      "24 -0.7793183330233235\n",
      "25 -0.7514676638692508\n",
      "26 -0.723234480552216\n",
      "27 -0.6890136467189684\n",
      "28 -0.6550167476200692\n",
      "29 -0.6336893690144076\n",
      "30 -0.5914864470883116\n",
      "31 -0.5642970033087186\n",
      "32 -0.5382687287353127\n",
      "33 -0.5187621510150154\n",
      "34 -0.4850048062560612\n",
      "35 -0.4506640531135694\n",
      "36 -0.4124427313506376\n",
      "37 -0.38895376959507016\n",
      "38 -0.35917483929135885\n",
      "39 -0.3379461578412173\n",
      "40 -0.28817945392979377\n",
      "41 -0.25974993979605787\n",
      "42 -0.22266953851617607\n",
      "43 -0.19781880935099877\n",
      "44 -0.1681108511558833\n",
      "45 -0.1450950879367502\n",
      "46 -0.10871260606772751\n",
      "47 -0.07952026191278297\n",
      "48 -0.05223617705244994\n",
      "49 -0.021770924104590292\n",
      "50 -0.005232793878600232\n",
      "51 0.02449485586186915\n",
      "52 0.05321327148207901\n",
      "53 0.08977130475032082\n",
      "54 0.11948896308358296\n",
      "55 0.13904748239144546\n",
      "56 0.1754228116936457\n",
      "57 0.20945352955208152\n",
      "58 0.23448541867104955\n",
      "59 0.24956566674817232\n",
      "60 0.28975062758109255\n",
      "61 0.3150789104373194\n",
      "62 0.3356617070871498\n",
      "63 0.3673900569040647\n",
      "64 0.3882792674905499\n",
      "65 0.4209271044362621\n",
      "66 0.4636613029517397\n",
      "67 0.4804854352599348\n",
      "68 0.49812056222298856\n",
      "69 0.5324409017439699\n",
      "70 0.5735891434069911\n",
      "71 0.622252367222043\n",
      "72 0.6707862060724715\n",
      "73 0.7111063692767627\n",
      "74 0.7258330742845055\n",
      "75 0.7697685212480184\n",
      "76 0.79156755640618\n",
      "77 0.8264869705718841\n",
      "78 0.8560631248379195\n",
      "79 0.8921882997811039\n",
      "80 0.9279318049595914\n",
      "81 0.9671086124482675\n",
      "82 1.0044120423033447\n",
      "83 1.0517137076429703\n",
      "84 1.0740280821874486\n",
      "85 1.1149387810370874\n",
      "86 1.161303577335162\n",
      "87 1.198681831611346\n",
      "88 1.2534406795837518\n",
      "89 1.2813547809487962\n",
      "90 1.349922759303422\n",
      "91 1.3952769537032557\n",
      "92 1.4507557976402978\n",
      "93 1.5176682584532881\n",
      "94 1.5645064489966563\n",
      "95 1.6546579535835477\n",
      "96 1.7488070865669891\n",
      "97 1.9656809550835326\n",
      "98 2.2200146995857093\n",
      "99 2.4537692135984495\n",
      "100 3.2474715453018264\n"
     ]
    }
   ],
   "source": [
    "import numpy as np\n",
    "import pylab\n",
    "import scipy.stats as stats\n",
    "\n",
    "#N(0,1),noraml-. G.D, loc->mean, scale-> std-Dist..\n",
    "std_normal = np.random.normal(loc =0, scale = 1, size = 1000)\n",
    "\n",
    "#0 to 100th percentiles of std_Normal\n",
    "for i in range(0,101):\n",
    "    print(i, np.percentile(std_normal,i))"
   ]
  },
  {
   "cell_type": "code",
   "execution_count": 3,
   "metadata": {},
   "outputs": [
    {
     "data": {
      "image/png": "[encoded data removed]",
      "text/plain": [
       "<Figure size 432x288 with 1 Axes>"
      ]
     },
     "metadata": {
      "needs_background": "light"
     },
     "output_type": "display_data"
    }
   ],
   "source": [
    "#generate 100 smaple from N(20,5)\n",
    "measurements = np.random.normal(loc = 20, scale = 5, size = 1000)\n",
    "#measurements = np.random.normal(loc = 20, scale = 5, size = 100)\n",
    "\n",
    "stats.probplot(measurements, dist = 'norm', plot = pylab)\n",
    "pylab.show()"
   ]
  },
  {
   "cell_type": "code",
   "execution_count": 6,
   "metadata": {},
   "outputs": [
    {
     "data": {
      "image/png": "[encoded data removed]",
      "text/plain": [
       "<Figure size 432x288 with 1 Axes>"
      ]
     },
     "metadata": {
      "needs_background": "light"
     },
     "output_type": "display_data"
    }
   ],
   "source": [
    "#generate 100 smaple from N(20,5), here using Uniform Dist\n",
    "measurements = np.random.uniform(low = -1, high = 1, size = 10000)\n",
    "#measurements = np.random.uniform(low = -1, high = 1, size = 100)\n",
    "\n",
    "stats.probplot(measurements, dist = 'norm', plot = pylab)\n",
    "pylab.show()\n",
    "\n",
    "# x-axis G.D, y-axis Uniform.D"
   ]
  },
  {
   "cell_type": "markdown",
   "metadata": {},
   "source": [
    "# Random Number Generator(Uniform Distribution)"
   ]
  },
  {
   "cell_type": "code",
   "execution_count": 7,
   "metadata": {},
   "outputs": [
    {
     "name": "stdout",
     "output_type": "stream",
     "text": [
      "0.5548984567432417\n"
     ]
    }
   ],
   "source": [
    "import random\n",
    "print(random.random())"
   ]
  },
  {
   "cell_type": "code",
   "execution_count": 9,
   "metadata": {},
   "outputs": [
    {
     "data": {
      "text/plain": [
       "(150, 4)"
      ]
     },
     "execution_count": 9,
     "metadata": {},
     "output_type": "execute_result"
    }
   ],
   "source": [
    "#load IRIS dataset with 150 points\n",
    "from sklearn import datasets\n",
    "iris = datasets.load_iris()\n",
    "d = iris.data\n",
    "d.shape"
   ]
  },
  {
   "cell_type": "code",
   "execution_count": 10,
   "metadata": {},
   "outputs": [
    {
     "data": {
      "text/plain": [
       "35"
      ]
     },
     "execution_count": 10,
     "metadata": {},
     "output_type": "execute_result"
    }
   ],
   "source": [
    "# Sample 30 points randomly from  150 points \n",
    "n = 150;\n",
    "m = 30;\n",
    "p = m/n;\n",
    "\n",
    "sampled_data = [];\n",
    "\n",
    "for i in range(0,n):\n",
    "    if random.random() <= p:\n",
    "        sampled_data.append(d[i,:])\n",
    "        \n",
    "len(sampled_data)"
   ]
  },
  {
   "cell_type": "markdown",
   "metadata": {},
   "source": [
    "# BOX-COX PLOT"
   ]
  },
  {
   "cell_type": "code",
   "execution_count": 12,
   "metadata": {},
   "outputs": [],
   "source": [
    "from scipy import stats\n",
    "import matplotlib.pyplot as plt"
   ]
  },
  {
   "cell_type": "code",
   "execution_count": 22,
   "metadata": {},
   "outputs": [
    {
     "data": {
      "text/plain": [
       "Text(0.5, 1.0, 'Probplot after Box-Cox transformation')"
      ]
     },
     "execution_count": 22,
     "metadata": {},
     "output_type": "execute_result"
    },
    {
     "data": {
      "image/png": "[encoded data removed]",
      "text/plain": [
       "<Figure size 432x288 with 2 Axes>"
      ]
     },
     "metadata": {
      "needs_background": "light"
     },
     "output_type": "display_data"
    }
   ],
   "source": [
    "fig = plt.figure()\n",
    "ax1 = fig.add_subplot(211)\n",
    "\n",
    "#loggamma is a kind of power low dist\n",
    "x = stats.loggamma.rvs(5, size = 500 + 5)\n",
    "\n",
    "# probplot is Q-Q plot\n",
    "prob = stats.probplot(x, dist = stats.norm, plot = ax1)\n",
    "ax1.set_xlabel('')\n",
    "ax1.set_title('Probplot against normal distribution')\n",
    "# Their is some deviation of points from line\n",
    "\n",
    "\n",
    "# x- log-gamma, xt- Gussian, probplot is Q-Q plot\n",
    "ax2 = fig.add_subplot(212)\n",
    "xt, _ = stats.boxcox(x)\n",
    "prob = stats.probplot(xt, dist=stats.norm, plot=ax2)\n",
    "ax2.set_title('Probplot after Box-Cox transformation')\n",
    "# After applying Box-Cox we can see that the most of the points\n",
    "# are on the line or slictly away nmot far away"
   ]
  },
  {
   "cell_type": "markdown",
   "metadata": {},
   "source": [
    "# Empirical bootstrap based Confidence Interval"
   ]
  },
  {
   "cell_type": "code",
   "execution_count": 4,
   "metadata": {},
   "outputs": [
    {
     "data": {
      "image/png": "[encoded data removed]",
      "text/plain": [
       "<Figure size 432x288 with 1 Axes>"
      ]
     },
     "metadata": {
      "needs_background": "light"
     },
     "output_type": "display_data"
    },
    {
     "name": "stdout",
     "output_type": "stream",
     "text": [
      " 95 confidence interval 162 and 176 \n"
     ]
    }
   ],
   "source": [
    "import numpy as np\n",
    "from pandas import read_csv\n",
    "from sklearn.utils import resample\n",
    "from sklearn.metrics import accuracy_score\n",
    "from matplotlib import pyplot\n",
    "\n",
    "#load database\n",
    "x = np.array([180, 162, 158, 172, 168, 150, 171, 183, 165, 176]) # Sample S\n",
    "\n",
    "# configure bootstrap\n",
    "n_iterations = 1000  # K=1000\n",
    "n_size = int(len(x))  #n_size = m\n",
    "\n",
    "# run bootstrap\n",
    "medians = list()\n",
    "for i in range(n_iterations):\n",
    "    # prepare train and test sets\n",
    "    s = resample(x, n_samples = n_size); # bootstrap sample (si)\n",
    "    m = np.median(s); # median of bootstrap sample\n",
    "    #print(m)\n",
    "    medians.append(m)\n",
    "    \n",
    "# plot scores\n",
    "pyplot.hist(medians)\n",
    "pyplot.show()\n",
    "\n",
    "#confidence intervals\n",
    "alpha = 0.95\n",
    "p = ((1.0-alpha)/2.0) * 100\n",
    "lower = np.percentile(medians, p)\n",
    "\n",
    "p = (alpha + ((1.0-alpha)/2.0)) * 100\n",
    "upper = np.percentile(medians, p)\n",
    "print(' %.lf confidence interval %.lf and %.lf ' % (alpha*100, lower, upper))"
   ]
  },
  {
   "cell_type": "markdown",
   "metadata": {},
   "source": [
    "# K-S Test"
   ]
  },
  {
   "cell_type": "code",
   "execution_count": 5,
   "metadata": {},
   "outputs": [
    {
     "data": {
      "image/png": "[encoded data removed]",
      "text/plain": [
       "<Figure size 432x288 with 1 Axes>"
      ]
     },
     "metadata": {},
     "output_type": "display_data"
    }
   ],
   "source": [
    "import numpy as np\n",
    "import seaborn as sns\n",
    "from scipy import stats\n",
    "import matplotlib.pyplot as plt\n",
    "\n",
    "#generate a gussian R.V X\n",
    "x = stats.norm.rvs(size=1000)\n",
    "sns.set_style('whitegrid')\n",
    "sns.kdeplot(np.array(x), bw=0.5)\n",
    "plt.show()"
   ]
  },
  {
   "cell_type": "code",
   "execution_count": 6,
   "metadata": {},
   "outputs": [
    {
     "data": {
      "text/plain": [
       "KstestResult(statistic=0.023895358857050353, pvalue=0.6176845408586018)"
      ]
     },
     "execution_count": 6,
     "metadata": {},
     "output_type": "execute_result"
    }
   ],
   "source": [
    "stats.kstest(x,'norm')"
   ]
  },
  {
   "cell_type": "code",
   "execution_count": 7,
   "metadata": {},
   "outputs": [
    {
     "data": {
      "image/png": "[encoded data removed]",
      "text/plain": [
       "<Figure size 432x288 with 1 Axes>"
      ]
     },
     "metadata": {},
     "output_type": "display_data"
    }
   ],
   "source": [
    "# Y ~ Contionous Uniform Distribution(0,-1)\n",
    "y = np.random.uniform(0,1,10000);\n",
    "sns.kdeplot(np.array(y), bw=0.1)\n",
    "plt.show()"
   ]
  },
  {
   "cell_type": "code",
   "execution_count": 8,
   "metadata": {},
   "outputs": [
    {
     "data": {
      "text/plain": [
       "KstestResult(statistic=0.5000483251119527, pvalue=0.0)"
      ]
     },
     "execution_count": 8,
     "metadata": {},
     "output_type": "execute_result"
    }
   ],
   "source": [
    "stats.kstest(y,'norm')"
   ]
  },
  {
   "cell_type": "code",
   "execution_count": null,
   "metadata": {},
   "outputs": [],
   "source": []
  }
 ],
 "metadata": {
  "kernelspec": {
   "display_name": "Python 3",
   "language": "python",
   "name": "python3"
  },
  "language_info": {
   "codemirror_mode": {
    "name": "ipython",
    "version": 3
   },
   "file_extension": ".py",
   "mimetype": "text/x-python",
   "name": "python",
   "nbconvert_exporter": "python",
   "pygments_lexer": "ipython3",
   "version": "3.7.1"
  }
 },
 "nbformat": 4,
 "nbformat_minor": 2
}
